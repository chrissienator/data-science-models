{
 "cells": [
  {
   "cell_type": "markdown",
   "id": "ade6c4bf",
   "metadata": {},
   "source": [
    "# Class definition"
   ]
  },
  {
   "cell_type": "code",
   "execution_count": 1,
   "id": "b996f0b5",
   "metadata": {},
   "outputs": [],
   "source": [
    "class KNearestNeighbors:\n",
    "    \"\"\"\n",
    "    The k-nearest neighbors algorithm is a supervised learning classifier, using proximity \n",
    "    to make predictions about the grouping of an individual data poin. A class label is assigned\n",
    "    on the basis of a majority vote: the label that is most frequently represented around a \n",
    "    given data point is predicted. \n",
    "    \n",
    "    Needed packages:\n",
    "    import numpy as np\n",
    "\n",
    "    Parameters\n",
    "    ----------\n",
    "    k_neighbors : int, default = 5\n",
    "        Number of neighbors to use while predicting new data point.\n",
    "        \n",
    "    Attributes\n",
    "    ----------\n",
    "    n_training_samples : int\n",
    "        Sample size training data seen during training estimator.\n",
    "    \n",
    "    n_features : int\n",
    "        Number of seatures training data seen during training estimator.\n",
    "    \n",
    "    n_classes : int\n",
    "        Number of classes training data seen during training estimator.\n",
    "        \n",
    "    X_train : array of shape (n_training_samples, n_features)\n",
    "        Values training data regressors.\n",
    "        \n",
    "    y_train : array of shape (n_training_samples, 1)\n",
    "        Values training data target value.\n",
    "        \n",
    "    knneighbors : array of shape (M, k_neighbors)\n",
    "        List of nearest classes for each new test X value. \n",
    "        \n",
    "    list_distances : array of shape (n_training_samples, n_test_samples)\n",
    "        List of distances to training observations for each new test X value. \n",
    "    \n",
    "  \n",
    "    Methods\n",
    "    ----------\n",
    "    fit(X_train, y_train): \n",
    "        Fit K-NN classifier with training data.\n",
    "    predict(X_test):\n",
    "        Predict class of test data with fitted K-NN classifier.\n",
    "\n",
    "    Examples\n",
    "    --------\n",
    "    >>> import numpy as np\n",
    "    >>> X_train = np.array([[2, 0, 3],         \n",
    "                            [5, 8, 0],\n",
    "                            [9, 5, 3],\n",
    "                            [3, 5, 8],\n",
    "                            [3, 9, 1],\n",
    "                            [1, 7, 9],\n",
    "                            [0, 1, 4],\n",
    "                            [5, 9, 5],\n",
    "                            [2, 6, 3],\n",
    "                            [3, 8, 3]])\n",
    "    >>> y_train = np.array(['Red', 'Green', 'Red', 'Green', 'Blue', \n",
    "                            'Blue', 'Green', 'Red', 'Green', 'Green'])\n",
    "    >>> X_test = np.array([[5, 2, 6],\n",
    "                           [7, 8, 4],\n",
    "                           [6, 0, 2]])\n",
    "    >>> y_test = np.array(['Green', 'Blue', 'Red'])\n",
    "    >>> KNNfit = KNearestNeighbors(k_neighbors=3).fit(X_train, y_train)\n",
    "    >>> KNNfit.n_training_samples\n",
    "    10\n",
    "    >>> KNNfit.n_features\n",
    "    3\n",
    "    >>> KNNfit.n_classes\n",
    "    3\n",
    "    >>> KNNfit.predict(X_test)\n",
    "    array(['Green', 'Red', 'Red'], dtype='<U5')\n",
    "    >>> KNNfit.knneighbors\n",
    "    [['Green', 'Red', 'Green'], ['Red', 'Red', 'Green'], ['Red', 'Red', 'Green']]\n",
    "    >>> KNNfit.list_distances.T\n",
    "    array([[ 4.69041576,  9.48683298,  4.12310563],\n",
    "           [ 8.48528137,  4.47213595,  8.30662386],\n",
    "           [ 5.83095189,  3.74165739,  5.91607978],\n",
    "           [ 4.12310563,  6.40312424,  8.36660027],\n",
    "           [ 8.83176087,  5.09901951,  9.53939201],\n",
    "           [ 7.07106781,  7.87400787, 11.09053651],\n",
    "           [ 5.47722558,  9.89949494,  6.40312424],\n",
    "           [ 7.07106781,  2.44948974,  9.53939201],\n",
    "           [ 5.83095189,  5.47722558,  7.28010989],\n",
    "           [ 7.        ,  4.12310563,  8.60232527]])\n",
    "    >>> KNNfit.score(X_test, y_test)\n",
    "    0.6666666666666666\n",
    "    \n",
    "    \"\"\"\n",
    "    def __init__(\n",
    "        self, \n",
    "        k_neighbors = 5,\n",
    "    ):\n",
    "        self.k_neighbors = k_neighbors\n",
    "        \n",
    "    @staticmethod\n",
    "    def euclidean_distance(point, dataset):\n",
    "        return np.sqrt(np.sum((point - dataset)**2, axis=1)) \n",
    "    \n",
    "    @staticmethod\n",
    "    def most_common(classes_list):\n",
    "        return max(set(classes_list), key=classes_list.count)\n",
    "        \n",
    "    def fit(self, X_train, y_train):\n",
    "        \"\"\"\n",
    "        Fit K-NN classifier with training data.\n",
    "\n",
    "        Parameters\n",
    "        ----------\n",
    "        X_train : array of shape (n_training_samples, n_features)\n",
    "            Training data X-values.\n",
    "        y_train : array of shape (n_training_samples, 1)\n",
    "            Training data y-values.\n",
    "\n",
    "        Returns\n",
    "        -------\n",
    "        self : object\n",
    "            Fitted Estimator.\n",
    "        \"\"\"\n",
    "        \n",
    "        # Define n_samples \n",
    "        self.n_training_samples = len(X_train)\n",
    "        \n",
    "        # Define n_features\n",
    "        self.n_features = len(X_train[0])\n",
    "        \n",
    "        # Define n_classes\n",
    "        self.n_classes = len(np.unique(y_train))\n",
    "        \n",
    "        # Set training values\n",
    "        self.X_train  = X_train\n",
    "        self.y_train = y_train\n",
    "        \n",
    "        return self\n",
    "    \n",
    "    def predict(self, X_test):\n",
    "        \"\"\"\n",
    "        Predict class of test data with fitted K-NN classifier.\n",
    "\n",
    "        Parameters\n",
    "        ----------\n",
    "        X_test : array of shape (M, n_features)\n",
    "            Data regressors new data, to predict class y.\n",
    "\n",
    "        Returns\n",
    "        -------\n",
    "        y_predicted : array of shape (M)\n",
    "            Predicted y classes.\n",
    "        \"\"\"\n",
    "        if hasattr(self, 'X_train') == False:\n",
    "                raise ValueError(\n",
    "                     \" This KNearestNeighbors instance is not fitted yet.\" \\\n",
    "                     \" Call 'fit' method with appropriate X and y before using this predict function.\"\n",
    "                 )\n",
    "    \n",
    "        # Create empty np matrix for storing distances and neighbors\n",
    "        self.list_distances = np.empty((0,self.n_training_samples))\n",
    "        self.knneighbors = []\n",
    "        \n",
    "        # For each test observation, find distance to each training observation\n",
    "        for x_test in X_test:\n",
    "            \n",
    "            # Calculate distance between test and training points, append to list\n",
    "            distance = self.euclidean_distance(x_test, self.X_train)\n",
    "            self.list_distances = np.vstack([self.list_distances, distance])\n",
    "            \n",
    "            # Sort distances and zip to corresponding test y value \n",
    "            y_sorted = [y for _, y in sorted(zip(distance, self.y_train))]\n",
    "            \n",
    "            # Append K nearest neighbors to neighbors list\n",
    "            self.knneighbors.append(y_sorted[:self.k_neighbors])\n",
    "\n",
    "        return np.array(list(map(self.most_common, self.knneighbors)))\n",
    "    \n",
    "    def score(self, X_test, y_test):\n",
    "        \"\"\"\n",
    "        Check accuracy of fitted K-NN classifier.\n",
    "\n",
    "        Parameters\n",
    "        ----------\n",
    "        X_test : array of shape (M, n_features)\n",
    "            Data regressors test data.\n",
    "        y_test : array of shape (M, 1)\n",
    "            Data target value test data.\n",
    "\n",
    "        Returns\n",
    "        -------\n",
    "        accuracy : float\n",
    "            Accuracy of fitted K-NN classifier.\n",
    "        \"\"\"\n",
    "        if hasattr(self, 'X_train') == False:\n",
    "                raise ValueError(\n",
    "                     \" This KNearestNeighbors instance is not fitted yet.\" \\\n",
    "                     \" Call 'fit' method with appropriate X and y before using this predict function.\"\n",
    "                 )\n",
    "        \n",
    "        return sum(self.predict(X_test) == y_test)/len(y_test)"
   ]
  },
  {
   "cell_type": "markdown",
   "id": "30dd9f7b",
   "metadata": {},
   "source": [
    "## Examples"
   ]
  },
  {
   "cell_type": "code",
   "execution_count": 2,
   "id": "298a8c98",
   "metadata": {},
   "outputs": [
    {
     "data": {
      "text/plain": [
       "10"
      ]
     },
     "execution_count": 2,
     "metadata": {},
     "output_type": "execute_result"
    }
   ],
   "source": [
    "import numpy as np\n",
    "X_train = np.array([[2, 0, 3],         \n",
    "                    [5, 8, 0],\n",
    "                    [9, 5, 3],\n",
    "                    [3, 5, 8],\n",
    "                    [3, 9, 1],\n",
    "                    [1, 7, 9],\n",
    "                    [0, 1, 4],\n",
    "                    [5, 9, 5],\n",
    "                    [2, 6, 3],\n",
    "                    [3, 8, 3]])\n",
    "y_train = np.array(['Red', 'Green', 'Red', 'Green', 'Blue', \n",
    "                    'Blue', 'Green', 'Red', 'Green', 'Green'])\n",
    "X_test = np.array([[5, 2, 6],\n",
    "                   [7, 8, 4],\n",
    "                   [6, 0, 2]])\n",
    "y_test = np.array(['Green', 'Blue', 'Red'])\n",
    "\n",
    "KNNfit = KNearestNeighbors(k_neighbors=3).fit(X_train, y_train)\n",
    "KNNfit.n_training_samples"
   ]
  },
  {
   "cell_type": "code",
   "execution_count": 3,
   "id": "395e9181",
   "metadata": {},
   "outputs": [
    {
     "data": {
      "text/plain": [
       "3"
      ]
     },
     "execution_count": 3,
     "metadata": {},
     "output_type": "execute_result"
    }
   ],
   "source": [
    "KNNfit.n_features"
   ]
  },
  {
   "cell_type": "code",
   "execution_count": 4,
   "id": "8c83234d",
   "metadata": {},
   "outputs": [
    {
     "data": {
      "text/plain": [
       "3"
      ]
     },
     "execution_count": 4,
     "metadata": {},
     "output_type": "execute_result"
    }
   ],
   "source": [
    "KNNfit.n_classes"
   ]
  },
  {
   "cell_type": "code",
   "execution_count": 5,
   "id": "e6879891",
   "metadata": {},
   "outputs": [
    {
     "data": {
      "text/plain": [
       "array(['Green', 'Red', 'Red'], dtype='<U5')"
      ]
     },
     "execution_count": 5,
     "metadata": {},
     "output_type": "execute_result"
    }
   ],
   "source": [
    "KNNfit.predict(X_test)"
   ]
  },
  {
   "cell_type": "code",
   "execution_count": 6,
   "id": "05ecedb6",
   "metadata": {},
   "outputs": [
    {
     "data": {
      "text/plain": [
       "[['Green', 'Red', 'Green'], ['Red', 'Red', 'Green'], ['Red', 'Red', 'Green']]"
      ]
     },
     "execution_count": 6,
     "metadata": {},
     "output_type": "execute_result"
    }
   ],
   "source": [
    "KNNfit.knneighbors"
   ]
  },
  {
   "cell_type": "code",
   "execution_count": 7,
   "id": "f8e40c9e",
   "metadata": {},
   "outputs": [
    {
     "data": {
      "text/plain": [
       "0.6666666666666666"
      ]
     },
     "execution_count": 7,
     "metadata": {},
     "output_type": "execute_result"
    }
   ],
   "source": [
    "KNNfit.score(X_test, y_test)"
   ]
  },
  {
   "cell_type": "code",
   "execution_count": 8,
   "id": "c3b5e181",
   "metadata": {},
   "outputs": [
    {
     "data": {
      "text/plain": [
       "array([[ 4.69041576,  9.48683298,  4.12310563],\n",
       "       [ 8.48528137,  4.47213595,  8.30662386],\n",
       "       [ 5.83095189,  3.74165739,  5.91607978],\n",
       "       [ 4.12310563,  6.40312424,  8.36660027],\n",
       "       [ 8.83176087,  5.09901951,  9.53939201],\n",
       "       [ 7.07106781,  7.87400787, 11.09053651],\n",
       "       [ 5.47722558,  9.89949494,  6.40312424],\n",
       "       [ 7.07106781,  2.44948974,  9.53939201],\n",
       "       [ 5.83095189,  5.47722558,  7.28010989],\n",
       "       [ 7.        ,  4.12310563,  8.60232527]])"
      ]
     },
     "execution_count": 8,
     "metadata": {},
     "output_type": "execute_result"
    }
   ],
   "source": [
    "KNNfit.list_distances.T"
   ]
  }
 ],
 "metadata": {
  "kernelspec": {
   "display_name": "Python 3 (ipykernel)",
   "language": "python",
   "name": "python3"
  },
  "language_info": {
   "codemirror_mode": {
    "name": "ipython",
    "version": 3
   },
   "file_extension": ".py",
   "mimetype": "text/x-python",
   "name": "python",
   "nbconvert_exporter": "python",
   "pygments_lexer": "ipython3",
   "version": "3.8.2"
  }
 },
 "nbformat": 4,
 "nbformat_minor": 5
}
